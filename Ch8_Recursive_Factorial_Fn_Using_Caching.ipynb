{
 "cells": [
  {
   "cell_type": "code",
   "execution_count": null,
   "id": "9e85edba",
   "metadata": {},
   "outputs": [],
   "source": [
    "#with caching, using my own dictionary\n",
    "cache={}\n",
    "\n",
    "def factorial(n):\n",
    "    #base case\n",
    "    if n<=1:\n",
    "        return 1\n",
    "    else:\n",
    "        cache[n-1]=factorial(n-1)\n",
    "        cache[n]=cache[n-1]*n     #we don't get to this line until previous line has got to n=1\n",
    "        return cache[n]\n",
    "    \n",
    "    \n",
    "num= int(input(\"What number? \"))\n",
    "print(num,'!= ',factorial(num))\n",
    "\n",
    "#print out the dictionary\n",
    "for key, value in cache.items():\n",
    "    print(f'key:{key}, value:{value}')\n",
    "\n"
   ]
  }
 ],
 "metadata": {
  "kernelspec": {
   "display_name": "Python 3 (ipykernel)",
   "language": "python",
   "name": "python3"
  },
  "language_info": {
   "codemirror_mode": {
    "name": "ipython",
    "version": 3
   },
   "file_extension": ".py",
   "mimetype": "text/x-python",
   "name": "python",
   "nbconvert_exporter": "python",
   "pygments_lexer": "ipython3",
   "version": "3.11.5"
  }
 },
 "nbformat": 4,
 "nbformat_minor": 5
}
